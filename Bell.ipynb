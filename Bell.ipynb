{
 "cells": [
  {
   "cell_type": "markdown",
   "metadata": {},
   "source": [
    "### In this lab we will implement the circuit to construct a Bell pair using Cirq, and play around with the results."
   ]
  },
  {
   "cell_type": "markdown",
   "metadata": {},
   "source": [
    "First we'll take care of the logistics: upgrading pip and installing cirq into our system."
   ]
  },
  {
   "cell_type": "code",
   "execution_count": 1,
   "metadata": {},
   "outputs": [
    {
     "name": "stdout",
     "output_type": "stream",
     "text": [
      "Collecting pip\n",
      "\u001b[?25l  Downloading https://files.pythonhosted.org/packages/00/b6/9cfa56b4081ad13874b0c6f96af8ce16cfbc1cb06bedf8e9164ce5551ec1/pip-19.3.1-py2.py3-none-any.whl (1.4MB)\n",
      "\u001b[K     |████████████████████████████████| 1.4MB 6.3MB/s eta 0:00:01\n",
      "\u001b[?25hInstalling collected packages: pip\n",
      "  Found existing installation: pip 19.0.3\n",
      "    Uninstalling pip-19.0.3:\n",
      "\u001b[31mCould not install packages due to an EnvironmentError: [Errno 13] Permission denied: '/usr/bin/pip'\n",
      "Consider using the `--user` option or check the permissions.\n",
      "\u001b[0m\n",
      "Requirement already satisfied: cirq in /usr/lib/python3.7/site-packages (0.6.0.dev0)\n",
      "Requirement already satisfied: google-api-python-client~=1.6 in /usr/lib/python3.7/site-packages (from cirq) (1.7.9)\n",
      "Requirement already satisfied: matplotlib~=3.0 in /usr/lib/python3.7/site-packages (from cirq) (3.1.1)\n",
      "Requirement already satisfied: networkx~=2.1 in /usr/lib/python3.7/site-packages (from cirq) (2.3)\n",
      "Requirement already satisfied: numpy~=1.16 in /usr/lib/python3.7/site-packages (from cirq) (1.16.4)\n",
      "Requirement already satisfied: pandas in /usr/lib/python3.7/site-packages (from cirq) (0.24.2)\n",
      "Requirement already satisfied: protobuf~=3.5 in /usr/lib/python3.7/site-packages (from cirq) (3.9.0)\n",
      "Requirement already satisfied: requests~=2.18 in /usr/lib/python3.7/site-packages (from cirq) (2.22.0)\n",
      "Requirement already satisfied: sortedcontainers~=2.0 in /usr/lib/python3.7/site-packages (from cirq) (2.1.0)\n",
      "Requirement already satisfied: scipy in /usr/lib/python3.7/site-packages (from cirq) (1.3.0)\n",
      "Requirement already satisfied: sympy in /usr/lib/python3.7/site-packages (from cirq) (1.4)\n",
      "Requirement already satisfied: typing_extensions in /usr/lib/python3.7/site-packages (from cirq) (3.7.4)\n",
      "Requirement already satisfied: httplib2<1dev,>=0.9.2 in /usr/lib/python3.7/site-packages (from google-api-python-client~=1.6->cirq) (0.13.0)\n",
      "Requirement already satisfied: google-auth>=1.4.1 in /usr/lib/python3.7/site-packages (from google-api-python-client~=1.6->cirq) (1.6.3)\n",
      "Requirement already satisfied: google-auth-httplib2>=0.0.3 in /usr/lib/python3.7/site-packages (from google-api-python-client~=1.6->cirq) (0.0.3)\n",
      "Requirement already satisfied: uritemplate<4dev,>=3.0.0 in /usr/lib/python3.7/site-packages (from google-api-python-client~=1.6->cirq) (3.0.0)\n",
      "Requirement already satisfied: six<2dev,>=1.6.1 in /usr/lib/python3.7/site-packages (from google-api-python-client~=1.6->cirq) (1.12.0)\n",
      "Requirement already satisfied: cycler>=0.10 in /usr/lib/python3.7/site-packages (from matplotlib~=3.0->cirq) (0.10.0)\n",
      "Requirement already satisfied: kiwisolver>=1.0.1 in /usr/lib/python3.7/site-packages (from matplotlib~=3.0->cirq) (1.1.0)\n",
      "Requirement already satisfied: pyparsing!=2.0.4,!=2.1.2,!=2.1.6,>=2.0.1 in /usr/lib/python3.7/site-packages (from matplotlib~=3.0->cirq) (2.4.0)\n",
      "Requirement already satisfied: python-dateutil>=2.1 in /usr/lib/python3.7/site-packages (from matplotlib~=3.0->cirq) (2.8.0)\n",
      "Requirement already satisfied: decorator>=4.3.0 in /usr/lib/python3.7/site-packages (from networkx~=2.1->cirq) (4.4.0)\n",
      "Requirement already satisfied: pytz>=2011k in /usr/lib/python3.7/site-packages (from pandas->cirq) (2019.1)\n",
      "Requirement already satisfied: setuptools in /usr/lib/python3.7/site-packages (from protobuf~=3.5->cirq) (41.0.1)\n",
      "Requirement already satisfied: chardet>=3.0.2 in /usr/lib/python3.7/site-packages (from requests~=2.18->cirq) (3.0.4)\n",
      "Requirement already satisfied: idna>=2.5 in /usr/lib/python3.7/site-packages (from requests~=2.18->cirq) (2.8)\n",
      "Requirement already satisfied: urllib3>=1.21.1 in /usr/lib/python3.7/site-packages (from requests~=2.18->cirq) (1.25.3)\n",
      "Requirement already satisfied: mpmath>=0.19 in /usr/lib/python3.7/site-packages (from sympy->cirq) (1.1.0)\n",
      "Requirement already satisfied: cachetools>=2.0.0 in /usr/lib/python3.7/site-packages (from google-auth>=1.4.1->google-api-python-client~=1.6->cirq) (3.1.1)\n",
      "Requirement already satisfied: rsa>=3.1.4 in /usr/lib/python3.7/site-packages (from google-auth>=1.4.1->google-api-python-client~=1.6->cirq) (4.0)\n",
      "Requirement already satisfied: pyasn1-modules>=0.2.1 in /usr/lib/python3.7/site-packages (from google-auth>=1.4.1->google-api-python-client~=1.6->cirq) (0.2.5)\n",
      "Requirement already satisfied: pyasn1>=0.1.3 in /usr/lib/python3.7/site-packages (from rsa>=3.1.4->google-auth>=1.4.1->google-api-python-client~=1.6->cirq) (0.4.5)\n"
     ]
    }
   ],
   "source": [
    "import sys\n",
    "!pip install --upgrade pip\n",
    "!{sys.executable} -m pip install cirq\n",
    "# These might take a bit to run!"
   ]
  },
  {
   "cell_type": "markdown",
   "metadata": {},
   "source": [
    "Now that cirq is in the system, let's import it into our program"
   ]
  },
  {
   "cell_type": "code",
   "execution_count": 2,
   "metadata": {},
   "outputs": [],
   "source": [
    "import cirq\n",
    "# This also takes a while to run."
   ]
  },
  {
   "cell_type": "markdown",
   "metadata": {},
   "source": [
    "Now that we got everything set up, lets verify that it works by running the cell below. You should get output that looks like this:\n",
    "```\n",
    "(0, 0)───(0, 1)───(0, 2)───(0, 3)───(0, 4)───(0, 5)───(0, 6)───(0, 7)───(0, 8)───(0, 9)───(0, 10)\n",
    "│        │        │        │        │        │        │        │        │        │        │\n",
    "│        │        │        │        │        │        │        │        │        │        │\n",
    "(1, 0)───(1, 1)───(1, 2)───(1, 3)───(1, 4)───(1, 5)───(1, 6)───(1, 7)───(1, 8)───(1, 9)───(1, 10)\n",
    "```"
   ]
  },
  {
   "cell_type": "code",
   "execution_count": 3,
   "metadata": {},
   "outputs": [
    {
     "name": "stdout",
     "output_type": "stream",
     "text": [
      "(0, 0)───(0, 1)───(0, 2)───(0, 3)───(0, 4)───(0, 5)───(0, 6)───(0, 7)───(0, 8)───(0, 9)───(0, 10)\n",
      "│        │        │        │        │        │        │        │        │        │        │\n",
      "│        │        │        │        │        │        │        │        │        │        │\n",
      "(1, 0)───(1, 1)───(1, 2)───(1, 3)───(1, 4)───(1, 5)───(1, 6)───(1, 7)───(1, 8)───(1, 9)───(1, 10)\n"
     ]
    }
   ],
   "source": [
    "print(cirq.google.Foxtail)"
   ]
  },
  {
   "cell_type": "markdown",
   "metadata": {},
   "source": [
    "If the pattern above didn't show up, let me know. \n",
    "\n",
    "Now let's jump into the actual program. First, lets initialize some qubits! When we initialize qubits in Cirq, we have to specify two coordinates for the position of the qubit, or where it is placed in a grid. One can think of the components as (*x, y*) coordinates. (Looking at the foxtail example above, it appears that the components might be flipped from conventional, but I guess that's just kinda the way it is). \n",
    "\n",
    "Let's make our 2 qubits, and put them into a list."
   ]
  },
  {
   "cell_type": "code",
   "execution_count": 4,
   "metadata": {},
   "outputs": [
    {
     "name": "stdout",
     "output_type": "stream",
     "text": [
      "[cirq.GridQubit(0, 0), cirq.GridQubit(1, 0)]\n"
     ]
    }
   ],
   "source": [
    "q0 = cirq.GridQubit(0, 0)\n",
    "q1 = cirq.GridQubit(1, 0)\n",
    "qubits = [q0, q1]\n",
    "\n",
    "print(qubits)"
   ]
  },
  {
   "cell_type": "markdown",
   "metadata": {},
   "source": [
    "Cool, now let's initialize a circuit!"
   ]
  },
  {
   "cell_type": "code",
   "execution_count": 5,
   "metadata": {},
   "outputs": [],
   "source": [
    "circuit = cirq.Circuit()"
   ]
  },
  {
   "cell_type": "markdown",
   "metadata": {},
   "source": [
    "Since we're making a Bell circuit, we want to apply the `H` Gate to `q0` and `CNOT` on both, with `q0` as the control. The way we add gates to a circuit is by `append`ing, like how you would add elements to a Python list.\n"
   ]
  },
  {
   "cell_type": "code",
   "execution_count": 6,
   "metadata": {},
   "outputs": [],
   "source": [
    "circuit.append(cirq.H(q0))\n",
    "circuit.append(cirq.CNOT.on(q0, q1))"
   ]
  },
  {
   "cell_type": "markdown",
   "metadata": {},
   "source": [
    "Let's print out the circuit and see what it looks like so far"
   ]
  },
  {
   "cell_type": "code",
   "execution_count": 7,
   "metadata": {},
   "outputs": [
    {
     "name": "stdout",
     "output_type": "stream",
     "text": [
      "(0, 0): ───H───@───\n",
      "               │\n",
      "(1, 0): ───────X───\n"
     ]
    }
   ],
   "source": [
    "print(circuit)"
   ]
  },
  {
   "cell_type": "markdown",
   "metadata": {},
   "source": [
    "As expected, we have `H` on the first qubit and `CNOT` on both. Now let's add some measurement operators!"
   ]
  },
  {
   "cell_type": "code",
   "execution_count": 8,
   "metadata": {},
   "outputs": [
    {
     "name": "stdout",
     "output_type": "stream",
     "text": [
      "(0, 0): ───H───@───M('x')───\n",
      "               │   │\n",
      "(1, 0): ───────X───M────────\n"
     ]
    }
   ],
   "source": [
    "circuit.append(cirq.measure(*qubits, key='x'))  \n",
    "# *qubits means to include all the qubits in this measurement, and 'x' just gives this measurement a name.\n",
    "print(circuit)"
   ]
  },
  {
   "cell_type": "markdown",
   "metadata": {},
   "source": [
    "At this point let's check in and see that we're all on the same page. You should have gotten this output after running the cell above:\n",
    "\n",
    "```\n",
    "(0, 0): ───H───@───M('x')───\n",
    "               │   │\n",
    "(1, 0): ───────X───M────────\n",
    "```\n",
    "\n",
    "If you didn't get this output, you probably ran the cells in a different order than what is listed. Try to go back and re-run the cells starting at the one where we initialized the qubits. If you're still getting a different result after that, go to the Tab that says \"Kernel\", click \"Restart & Clear Output\", and run through the cells one by one. You should end up with the correct result then."
   ]
  },
  {
   "cell_type": "markdown",
   "metadata": {},
   "source": [
    "Cool, now that we have a circuit, let's go ahead and try to measure it! It would be super tedious to run it manually many many times. Fortunately, Cirq has this handy dandy Simulator that we can use. Let's make one now."
   ]
  },
  {
   "cell_type": "code",
   "execution_count": 9,
   "metadata": {},
   "outputs": [],
   "source": [
    "simulator = cirq.Simulator()"
   ]
  },
  {
   "cell_type": "code",
   "execution_count": 10,
   "metadata": {},
   "outputs": [
    {
     "name": "stdout",
     "output_type": "stream",
     "text": [
      "Counter({0: 51, 3: 49})\n"
     ]
    }
   ],
   "source": [
    "results = simulator.run(circuit, repetitions=100)\n",
    "print(results.histogram(key='x'))"
   ]
  },
  {
   "cell_type": "markdown",
   "metadata": {},
   "source": [
    "So we've just simulated the circuit by running it 100 times and printing it out. As we expect, the system is in the bell state, so roughly half the time we'd get the result `0` and half the times we'd get the result `3`. (3 is the state |11>). You can go back and re-run the above cell many times to play with it a little more. Pretty cool huh!"
   ]
  },
  {
   "cell_type": "markdown",
   "metadata": {},
   "source": [
    "But what if we didn't want to measure q0 and q1 at the same time? Let's say we want to measure q0 first, and then q1. Then we would expect that the measurement of q1 would by exactly the same as whatever we measured in q0, since the 2 qubits are entangled. Let's try it out."
   ]
  },
  {
   "cell_type": "code",
   "execution_count": 11,
   "metadata": {},
   "outputs": [],
   "source": [
    "# do the same thing here as what we did before.\n",
    "circuit = cirq.Circuit()\n",
    "circuit.append(cirq.H(q0))\n",
    "circuit.append(cirq.CNOT.on(q0, q1))"
   ]
  },
  {
   "cell_type": "code",
   "execution_count": 12,
   "metadata": {},
   "outputs": [],
   "source": [
    "# append a measurement operator on q0 only, and name this measurement 'x'\n",
    "circuit.append(cirq.measure(q0, key='x'))"
   ]
  },
  {
   "cell_type": "markdown",
   "metadata": {},
   "source": [
    "Now we want to append a measurement operator on q1, but it should occur a *moment* after q0's measurement. The way we do this is to specify an append strategy, `NEW_THEN_INLINE`. This strategy specifies that we insert the gate into the next available moment, instead of the earliest possible moment, which is the default behavior if no strategy is specified. (And that's what happened in the previous example, the measurement on q1 was put immediately after the CNOT). Note that now measuring q0 and q1 are 2 different measurements, we have to give them different names, and I chose 'y' cuz why not."
   ]
  },
  {
   "cell_type": "code",
   "execution_count": 13,
   "metadata": {},
   "outputs": [
    {
     "name": "stdout",
     "output_type": "stream",
     "text": [
      "(0, 0): ───H───@───M('x')────────────\n",
      "               │\n",
      "(1, 0): ───────X────────────M('y')───\n"
     ]
    }
   ],
   "source": [
    "circuit.append(cirq.measure(q1, key='y'), strategy=cirq.InsertStrategy.NEW_THEN_INLINE)\n",
    "print(circuit)"
   ]
  },
  {
   "cell_type": "markdown",
   "metadata": {},
   "source": [
    "You should now see that the measurement on q1 occurs a moment after q0. If not, re-run the last 3 cells.\n",
    "\n",
    "Now let's simulate our circuit and print some results!"
   ]
  },
  {
   "cell_type": "code",
   "execution_count": 14,
   "metadata": {},
   "outputs": [],
   "source": [
    "simulator = cirq.Simulator()\n",
    "results = simulator.run(circuit, repetitions=100)"
   ]
  },
  {
   "cell_type": "code",
   "execution_count": 15,
   "metadata": {},
   "outputs": [
    {
     "name": "stdout",
     "output_type": "stream",
     "text": [
      "Measuring first qubit: Counter({0: 51, 1: 49})\n",
      "Measuring second qubit: Counter({0: 51, 1: 49})\n"
     ]
    }
   ],
   "source": [
    "print(f\"Measuring first qubit: {results.histogram(key='x')}\")\n",
    "print(f\"Measuring second qubit: {results.histogram(key='y')}\")"
   ]
  },
  {
   "cell_type": "markdown",
   "metadata": {},
   "source": [
    "Observe how the results of second qubit always matches the first qubit! If you set `repetitions` to 1, you can see it on a case by case basis as well. Pretty dope if I say so myself.\n",
    "\n",
    "Now that you know the basics of Cirq, go crazy with it! (or don't I'm not ur mom xd)"
   ]
  }
 ],
 "metadata": {
  "kernelspec": {
   "display_name": "Python 3",
   "language": "python",
   "name": "python3"
  },
  "language_info": {
   "codemirror_mode": {
    "name": "ipython",
    "version": 3
   },
   "file_extension": ".py",
   "mimetype": "text/x-python",
   "name": "python",
   "nbconvert_exporter": "python",
   "pygments_lexer": "ipython3",
   "version": "3.7.3"
  }
 },
 "nbformat": 4,
 "nbformat_minor": 2
}
